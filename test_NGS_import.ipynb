{
 "cells": [
  {
   "cell_type": "markdown",
   "id": "d0a64f3a-0362-4cc5-8dff-d603555a3e51",
   "metadata": {},
   "source": [
    "# Test NexGen Stats Import"
   ]
  },
  {
   "cell_type": "code",
   "execution_count": 2,
   "id": "ad7697af-fe1d-4688-9eab-10e828c54485",
   "metadata": {},
   "outputs": [],
   "source": [
    "# import python packages & libraries\n",
    "import numpy as np\n",
    "import pandas as pd\n",
    "import nfl_data_py as nfl"
   ]
  },
  {
   "cell_type": "code",
   "execution_count": 5,
   "id": "6158be39-ce50-4cbb-af3d-3b63054e1c81",
   "metadata": {},
   "outputs": [],
   "source": [
    "ngs_passing_df = nfl.import_ngs_data(years=[2021], stat_type='passing')"
   ]
  },
  {
   "cell_type": "code",
   "execution_count": 6,
   "id": "121a19e8-b649-4d87-962f-5b0871ddae8a",
   "metadata": {},
   "outputs": [
    {
     "data": {
      "text/plain": [
       "Index(['season', 'season_type', 'week', 'player_display_name',\n",
       "       'player_position', 'team_abbr', 'avg_time_to_throw',\n",
       "       'avg_completed_air_yards', 'avg_intended_air_yards',\n",
       "       'avg_air_yards_differential', 'aggressiveness',\n",
       "       'max_completed_air_distance', 'avg_air_yards_to_sticks', 'attempts',\n",
       "       'pass_yards', 'pass_touchdowns', 'interceptions', 'passer_rating',\n",
       "       'completions', 'completion_percentage',\n",
       "       'expected_completion_percentage',\n",
       "       'completion_percentage_above_expectation', 'avg_air_distance',\n",
       "       'max_air_distance', 'player_gsis_id', 'player_first_name',\n",
       "       'player_last_name', 'player_jersey_number', 'player_short_name'],\n",
       "      dtype='object')"
      ]
     },
     "execution_count": 6,
     "metadata": {},
     "output_type": "execute_result"
    }
   ],
   "source": [
    "ngs_passing_df.columns"
   ]
  },
  {
   "cell_type": "code",
   "execution_count": null,
   "id": "b5048248-07d4-4320-bb31-9f4e7aa8e5ad",
   "metadata": {},
   "outputs": [],
   "source": []
  }
 ],
 "metadata": {
  "kernelspec": {
   "display_name": "Python 3 (ipykernel)",
   "language": "python",
   "name": "python3"
  },
  "language_info": {
   "codemirror_mode": {
    "name": "ipython",
    "version": 3
   },
   "file_extension": ".py",
   "mimetype": "text/x-python",
   "name": "python",
   "nbconvert_exporter": "python",
   "pygments_lexer": "ipython3",
   "version": "3.9.13"
  }
 },
 "nbformat": 4,
 "nbformat_minor": 5
}
