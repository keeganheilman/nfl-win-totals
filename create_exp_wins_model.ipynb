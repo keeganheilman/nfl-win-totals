{
 "cells": [
  {
   "cell_type": "code",
   "execution_count": 18,
   "id": "06d74ce5-cba5-460d-86aa-9eaddd111ce2",
   "metadata": {},
   "outputs": [],
   "source": [
    "import os\n",
    "import pandas as pd\n",
    "from sklearn.ensemble import RandomForestRegressor\n",
    "from sklearn.model_selection import LeaveOneGroupOut\n",
    "import numpy as np\n",
    "from sklearn.metrics import mean_squared_error\n",
    "from sklearn.model_selection import cross_val_score"
   ]
  },
  {
   "cell_type": "code",
   "execution_count": 19,
   "id": "05c57275-3b6d-4ce8-8481-baed3665b00b",
   "metadata": {},
   "outputs": [
    {
     "data": {
      "text/html": [
       "<div>\n",
       "<style scoped>\n",
       "    .dataframe tbody tr th:only-of-type {\n",
       "        vertical-align: middle;\n",
       "    }\n",
       "\n",
       "    .dataframe tbody tr th {\n",
       "        vertical-align: top;\n",
       "    }\n",
       "\n",
       "    .dataframe thead th {\n",
       "        text-align: right;\n",
       "    }\n",
       "</style>\n",
       "<table border=\"1\" class=\"dataframe\">\n",
       "  <thead>\n",
       "    <tr style=\"text-align: right;\">\n",
       "      <th></th>\n",
       "      <th>season_n</th>\n",
       "      <th>team_name</th>\n",
       "      <th>season_n-1_epa</th>\n",
       "      <th>season_n-1_opposing_win_pct</th>\n",
       "      <th>season_n_opposing_exp_win_pct</th>\n",
       "      <th>season_n_wins</th>\n",
       "    </tr>\n",
       "  </thead>\n",
       "  <tbody>\n",
       "    <tr>\n",
       "      <th>0</th>\n",
       "      <td>2010</td>\n",
       "      <td>ARI</td>\n",
       "      <td>0.232340</td>\n",
       "      <td>0.445312</td>\n",
       "      <td>0.482422</td>\n",
       "      <td>5</td>\n",
       "    </tr>\n",
       "    <tr>\n",
       "      <th>1</th>\n",
       "      <td>2010</td>\n",
       "      <td>ATL</td>\n",
       "      <td>0.320527</td>\n",
       "      <td>0.496094</td>\n",
       "      <td>0.488281</td>\n",
       "      <td>13</td>\n",
       "    </tr>\n",
       "    <tr>\n",
       "      <th>2</th>\n",
       "      <td>2010</td>\n",
       "      <td>BAL</td>\n",
       "      <td>1.245432</td>\n",
       "      <td>0.507812</td>\n",
       "      <td>0.488281</td>\n",
       "      <td>12</td>\n",
       "    </tr>\n",
       "    <tr>\n",
       "      <th>3</th>\n",
       "      <td>2010</td>\n",
       "      <td>BUF</td>\n",
       "      <td>-0.587669</td>\n",
       "      <td>0.500000</td>\n",
       "      <td>0.517578</td>\n",
       "      <td>4</td>\n",
       "    </tr>\n",
       "    <tr>\n",
       "      <th>4</th>\n",
       "      <td>2010</td>\n",
       "      <td>CAR</td>\n",
       "      <td>0.069489</td>\n",
       "      <td>0.476562</td>\n",
       "      <td>0.503906</td>\n",
       "      <td>2</td>\n",
       "    </tr>\n",
       "    <tr>\n",
       "      <th>...</th>\n",
       "      <td>...</td>\n",
       "      <td>...</td>\n",
       "      <td>...</td>\n",
       "      <td>...</td>\n",
       "      <td>...</td>\n",
       "      <td>...</td>\n",
       "    </tr>\n",
       "    <tr>\n",
       "      <th>372</th>\n",
       "      <td>2021</td>\n",
       "      <td>SEA</td>\n",
       "      <td>0.718622</td>\n",
       "      <td>0.511029</td>\n",
       "      <td>0.503460</td>\n",
       "      <td>7</td>\n",
       "    </tr>\n",
       "    <tr>\n",
       "      <th>373</th>\n",
       "      <td>2021</td>\n",
       "      <td>SF</td>\n",
       "      <td>-0.159746</td>\n",
       "      <td>0.488971</td>\n",
       "      <td>0.477509</td>\n",
       "      <td>10</td>\n",
       "    </tr>\n",
       "    <tr>\n",
       "      <th>374</th>\n",
       "      <td>2021</td>\n",
       "      <td>TB</td>\n",
       "      <td>1.858550</td>\n",
       "      <td>0.465074</td>\n",
       "      <td>0.491349</td>\n",
       "      <td>13</td>\n",
       "    </tr>\n",
       "    <tr>\n",
       "      <th>375</th>\n",
       "      <td>2021</td>\n",
       "      <td>TEN</td>\n",
       "      <td>0.370473</td>\n",
       "      <td>0.507353</td>\n",
       "      <td>0.498270</td>\n",
       "      <td>12</td>\n",
       "    </tr>\n",
       "    <tr>\n",
       "      <th>376</th>\n",
       "      <td>2021</td>\n",
       "      <td>WAS</td>\n",
       "      <td>-0.130589</td>\n",
       "      <td>0.503676</td>\n",
       "      <td>0.522491</td>\n",
       "      <td>7</td>\n",
       "    </tr>\n",
       "  </tbody>\n",
       "</table>\n",
       "<p>377 rows × 6 columns</p>\n",
       "</div>"
      ],
      "text/plain": [
       "     season_n team_name  season_n-1_epa  season_n-1_opposing_win_pct  \\\n",
       "0        2010       ARI        0.232340                     0.445312   \n",
       "1        2010       ATL        0.320527                     0.496094   \n",
       "2        2010       BAL        1.245432                     0.507812   \n",
       "3        2010       BUF       -0.587669                     0.500000   \n",
       "4        2010       CAR        0.069489                     0.476562   \n",
       "..        ...       ...             ...                          ...   \n",
       "372      2021       SEA        0.718622                     0.511029   \n",
       "373      2021        SF       -0.159746                     0.488971   \n",
       "374      2021        TB        1.858550                     0.465074   \n",
       "375      2021       TEN        0.370473                     0.507353   \n",
       "376      2021       WAS       -0.130589                     0.503676   \n",
       "\n",
       "     season_n_opposing_exp_win_pct  season_n_wins  \n",
       "0                         0.482422              5  \n",
       "1                         0.488281             13  \n",
       "2                         0.488281             12  \n",
       "3                         0.517578              4  \n",
       "4                         0.503906              2  \n",
       "..                             ...            ...  \n",
       "372                       0.503460              7  \n",
       "373                       0.477509             10  \n",
       "374                       0.491349             13  \n",
       "375                       0.498270             12  \n",
       "376                       0.522491              7  \n",
       "\n",
       "[377 rows x 6 columns]"
      ]
     },
     "execution_count": 19,
     "metadata": {},
     "output_type": "execute_result"
    }
   ],
   "source": [
    "nfl_season_df = pd.read_csv(os.path.join(os.getcwd(), 'nfl_season_data.csv'), index_col=0)\n",
    "nfl_season_df"
   ]
  },
  {
   "cell_type": "code",
   "execution_count": 30,
   "id": "d0a750e3-3eae-4d8c-a515-104e4b367b31",
   "metadata": {},
   "outputs": [],
   "source": [
    "X = nfl_season_df[['season_n','season_n-1_epa','season_n-1_opposing_win_pct','season_n_opposing_exp_win_pct']]\n",
    "y = nfl_season_df[['season_n_wins']]\n",
    "groups = nfl_season_df['season_n']"
   ]
  },
  {
   "cell_type": "code",
   "execution_count": 31,
   "id": "768a2a55-5a45-41dc-8e29-f7b52b95d01b",
   "metadata": {},
   "outputs": [
    {
     "data": {
      "text/plain": [
       "12"
      ]
     },
     "execution_count": 31,
     "metadata": {},
     "output_type": "execute_result"
    }
   ],
   "source": [
    "logo = LeaveOneGroupOut()\n",
    "logo.get_n_splits(X, y, groups)"
   ]
  },
  {
   "cell_type": "code",
   "execution_count": 32,
   "id": "75e3ba48-4084-43c9-9dc7-7fdcc6a3aaf8",
   "metadata": {},
   "outputs": [
    {
     "name": "stdout",
     "output_type": "stream",
     "text": [
      "LeaveOneGroupOut()\n"
     ]
    }
   ],
   "source": [
    "print(logo)"
   ]
  },
  {
   "cell_type": "code",
   "execution_count": 53,
   "id": "72ece6a3-eb27-4451-9ef7-751875a2fecc",
   "metadata": {},
   "outputs": [],
   "source": [
    "regr = RandomForestRegressor(max_depth=3, random_state=42)"
   ]
  },
  {
   "cell_type": "code",
   "execution_count": 54,
   "id": "bd3f54d9-a69a-4fb3-bfa3-860d5583e2fc",
   "metadata": {},
   "outputs": [
    {
     "data": {
      "text/plain": [
       "array([-2.99980707, -2.75795282, -2.98747886, -3.00987722, -2.67594841,\n",
       "       -3.00495491, -3.08340602, -2.9227122 , -2.49766768, -2.73669043,\n",
       "       -3.05794404, -2.40056871])"
      ]
     },
     "execution_count": 54,
     "metadata": {},
     "output_type": "execute_result"
    }
   ],
   "source": [
    "cross_val_score(estimator=regr, X=X, y=np.ravel(y), groups=groups, cv=logo, scoring='neg_root_mean_squared_error')"
   ]
  },
  {
   "cell_type": "code",
   "execution_count": null,
   "id": "92ef9c14-0f66-4fe6-87c3-9e724c3bc3f8",
   "metadata": {},
   "outputs": [],
   "source": []
  }
 ],
 "metadata": {
  "kernelspec": {
   "display_name": "Python 3 (ipykernel)",
   "language": "python",
   "name": "python3"
  },
  "language_info": {
   "codemirror_mode": {
    "name": "ipython",
    "version": 3
   },
   "file_extension": ".py",
   "mimetype": "text/x-python",
   "name": "python",
   "nbconvert_exporter": "python",
   "pygments_lexer": "ipython3",
   "version": "3.9.13"
  }
 },
 "nbformat": 4,
 "nbformat_minor": 5
}
