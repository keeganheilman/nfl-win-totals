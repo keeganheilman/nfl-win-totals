{
 "cells": [
  {
   "cell_type": "markdown",
   "id": "6f2c19e3-d0a8-4091-934f-403d151f5231",
   "metadata": {},
   "source": [
    "# Predicting NFL Win Totals"
   ]
  },
  {
   "cell_type": "markdown",
   "id": "a32cfa1c-62d3-468d-8454-c0dca5d04bc6",
   "metadata": {},
   "source": [
    "## BASELINE\n",
    "\n",
    "## constraints\n",
    "- years: 2009-present\n",
    "- all 32 teams\n",
    "\n",
    "\n",
    "## Model\n",
    "- Random Forest\n",
    "\n",
    "## Dependent Variable\n",
    "- Current Year's Win Total\n",
    "\n",
    "## Independent Variables\n",
    "- [x]  Previous Year's Strength of Schedule\n",
    "- [x] Current Year's Market-Priced Strength of Schedule\n",
    "- [x] Previous Year's Relative Performance (EPA Standardized w.r.t Year)"
   ]
  },
  {
   "cell_type": "code",
   "execution_count": 3,
   "id": "020a8de2-145c-4a4f-89a6-ea3e1552193c",
   "metadata": {},
   "outputs": [],
   "source": [
    "# import python packages & libraries\n",
    "import numpy as np\n",
    "import pandas as pd\n",
    "import nfl_data_py as nfl"
   ]
  },
  {
   "cell_type": "code",
   "execution_count": 33,
   "id": "a983eb47-ca11-49bf-82da-5587d99c4c74",
   "metadata": {},
   "outputs": [],
   "source": [
    "# YEARS = [2009,2010,2011,2012,2013,2014,2015,2016,2017,2018,2019,2020,2021]\n",
    "YEARS_debug = [2019,2020,2021]"
   ]
  },
  {
   "cell_type": "markdown",
   "id": "fd4f8e23-278d-40af-b6f0-1fe0ff265fd8",
   "metadata": {},
   "source": [
    "# Get Data\n",
    "- Previous Year's Strength of Schedule\n",
    "    - Each opposing team's previous year's Win PCT\n",
    "        - Obtain schedule for the `result` for `game_type` REG season (ref: data_dict https://github.com/nflverse/nflreadr/blob/main/data-raw/dictionary_schedules.csv)\n",
    "        - Transform schedule result to win/loss\n",
    "        - Group Year & Team to obtain sum of wins / count games played\n",
    "- Current Year's Market-Priced Strength of Schedule\n",
    "    - Each opposing team's expected Win PCT\n",
    "- Previous Year's Relative Performance\n",
    "    - Team's EPA standardized w.r.t Year's mean team EPA\n",
    "    "
   ]
  },
  {
   "cell_type": "markdown",
   "id": "b4f1ce2b-74a4-475c-bc4d-8b0df3324ae8",
   "metadata": {
    "tags": []
   },
   "source": [
    "## Previous Year's Relative Performance"
   ]
  },
  {
   "cell_type": "code",
   "execution_count": 34,
   "id": "369e8927-623a-442c-be5b-d898725ba625",
   "metadata": {},
   "outputs": [
    {
     "name": "stdout",
     "output_type": "stream",
     "text": [
      "2019 done.\n",
      "2020 done.\n",
      "2021 done.\n",
      "Downcasting floats.\n"
     ]
    }
   ],
   "source": [
    "# import the NFL schedule\n",
    "nfl_pbp = nfl.import_pbp_data(years=YEARS_debug)"
   ]
  },
  {
   "cell_type": "code",
   "execution_count": 35,
   "id": "d425fdd4-5a61-4141-ab9b-e61025df8a4c",
   "metadata": {},
   "outputs": [],
   "source": [
    "# sum the offensive epa and the defensive epa of each team in each season\n",
    "nfl_epa = (nfl_pbp.groupby(['posteam','season'])['epa'].sum() + nfl_pbp.groupby(['defteam','season'])['epa'].sum() * -1).reset_index().sort_values('epa')\n"
   ]
  },
  {
   "cell_type": "code",
   "execution_count": 36,
   "id": "3529d801-5da8-4831-828f-6b87ab72d453",
   "metadata": {},
   "outputs": [],
   "source": [
    "nfl_epa['epa'] = (nfl_epa['epa'] - nfl_epa['epa'].mean()) / nfl_epa['epa'].std()"
   ]
  },
  {
   "cell_type": "code",
   "execution_count": 37,
   "id": "b2931657-86bc-47c1-adeb-f30f6190224f",
   "metadata": {},
   "outputs": [
    {
     "data": {
      "text/html": [
       "<div>\n",
       "<style scoped>\n",
       "    .dataframe tbody tr th:only-of-type {\n",
       "        vertical-align: middle;\n",
       "    }\n",
       "\n",
       "    .dataframe tbody tr th {\n",
       "        vertical-align: top;\n",
       "    }\n",
       "\n",
       "    .dataframe thead th {\n",
       "        text-align: right;\n",
       "    }\n",
       "</style>\n",
       "<table border=\"1\" class=\"dataframe\">\n",
       "  <thead>\n",
       "    <tr style=\"text-align: right;\">\n",
       "      <th></th>\n",
       "      <th>posteam</th>\n",
       "      <th>season</th>\n",
       "      <th>epa</th>\n",
       "    </tr>\n",
       "  </thead>\n",
       "  <tbody>\n",
       "    <tr>\n",
       "      <th>73</th>\n",
       "      <td>NYJ</td>\n",
       "      <td>2020</td>\n",
       "      <td>-1.943731</td>\n",
       "    </tr>\n",
       "    <tr>\n",
       "      <th>44</th>\n",
       "      <td>JAX</td>\n",
       "      <td>2021</td>\n",
       "      <td>-1.931442</td>\n",
       "    </tr>\n",
       "    <tr>\n",
       "      <th>74</th>\n",
       "      <td>NYJ</td>\n",
       "      <td>2021</td>\n",
       "      <td>-1.878298</td>\n",
       "    </tr>\n",
       "    <tr>\n",
       "      <th>57</th>\n",
       "      <td>MIA</td>\n",
       "      <td>2019</td>\n",
       "      <td>-1.757208</td>\n",
       "    </tr>\n",
       "    <tr>\n",
       "      <th>43</th>\n",
       "      <td>JAX</td>\n",
       "      <td>2020</td>\n",
       "      <td>-1.711465</td>\n",
       "    </tr>\n",
       "    <tr>\n",
       "      <th>...</th>\n",
       "      <td>...</td>\n",
       "      <td>...</td>\n",
       "      <td>...</td>\n",
       "    </tr>\n",
       "    <tr>\n",
       "      <th>63</th>\n",
       "      <td>NE</td>\n",
       "      <td>2019</td>\n",
       "      <td>1.718446</td>\n",
       "    </tr>\n",
       "    <tr>\n",
       "      <th>88</th>\n",
       "      <td>TB</td>\n",
       "      <td>2020</td>\n",
       "      <td>1.721600</td>\n",
       "    </tr>\n",
       "    <tr>\n",
       "      <th>84</th>\n",
       "      <td>SF</td>\n",
       "      <td>2019</td>\n",
       "      <td>1.775135</td>\n",
       "    </tr>\n",
       "    <tr>\n",
       "      <th>11</th>\n",
       "      <td>BUF</td>\n",
       "      <td>2021</td>\n",
       "      <td>2.005344</td>\n",
       "    </tr>\n",
       "    <tr>\n",
       "      <th>6</th>\n",
       "      <td>BAL</td>\n",
       "      <td>2019</td>\n",
       "      <td>2.104579</td>\n",
       "    </tr>\n",
       "  </tbody>\n",
       "</table>\n",
       "<p>96 rows × 3 columns</p>\n",
       "</div>"
      ],
      "text/plain": [
       "   posteam  season       epa\n",
       "73     NYJ    2020 -1.943731\n",
       "44     JAX    2021 -1.931442\n",
       "74     NYJ    2021 -1.878298\n",
       "57     MIA    2019 -1.757208\n",
       "43     JAX    2020 -1.711465\n",
       "..     ...     ...       ...\n",
       "63      NE    2019  1.718446\n",
       "88      TB    2020  1.721600\n",
       "84      SF    2019  1.775135\n",
       "11     BUF    2021  2.005344\n",
       "6      BAL    2019  2.104579\n",
       "\n",
       "[96 rows x 3 columns]"
      ]
     },
     "execution_count": 37,
     "metadata": {},
     "output_type": "execute_result"
    }
   ],
   "source": [
    "nfl_epa"
   ]
  },
  {
   "cell_type": "code",
   "execution_count": 31,
   "id": "b0f544ff-d899-42c7-8886-dab2f9d336e2",
   "metadata": {},
   "outputs": [
    {
     "data": {
      "text/plain": [
       "<AxesSubplot:ylabel='Density'>"
      ]
     },
     "execution_count": 31,
     "metadata": {},
     "output_type": "execute_result"
    },
    {
     "data": {
      "image/png": "[encoded data removed]",
      "text/plain": [
       "<Figure size 432x288 with 1 Axes>"
      ]
     },
     "metadata": {
      "needs_background": "light"
     },
     "output_type": "display_data"
    }
   ],
   "source": [
    "nfl_epa['epa'].plot.kde()"
   ]
  },
  {
   "cell_type": "code",
   "execution_count": null,
   "id": "0ad6f1f8-a5a6-4d25-96aa-bb81dc8af68e",
   "metadata": {},
   "outputs": [],
   "source": []
  },
  {
   "cell_type": "code",
   "execution_count": null,
   "id": "3787e7b1-1c18-4d89-9c26-19197a1119ac",
   "metadata": {},
   "outputs": [],
   "source": []
  }
 ],
 "metadata": {
  "kernelspec": {
   "display_name": "Python 3 (ipykernel)",
   "language": "python",
   "name": "python3"
  },
  "language_info": {
   "codemirror_mode": {
    "name": "ipython",
    "version": 3
   },
   "file_extension": ".py",
   "mimetype": "text/x-python",
   "name": "python",
   "nbconvert_exporter": "python",
   "pygments_lexer": "ipython3",
   "version": "3.9.13"
  }
 },
 "nbformat": 4,
 "nbformat_minor": 5
}
